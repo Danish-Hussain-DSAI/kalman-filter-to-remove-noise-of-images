{
  "cells": [
    {
      "cell_type": "markdown",
      "metadata": {
        "id": "view-in-github",
        "colab_type": "text"
      },
      "source": [
        "<a href=\"https://colab.research.google.com/github/Danish-Hussain-DSAI/kalman-filter-to-remove-noise-of-images/blob/main/kalman_filter.ipynb\" target=\"_parent\"><img src=\"https://colab.research.google.com/assets/colab-badge.svg\" alt=\"Open In Colab\"/></a>"
      ]
    },
    {
      "cell_type": "code",
      "execution_count": 10,
      "metadata": {
        "colab": {
          "base_uri": "https://localhost:8080/"
        },
        "id": "0pIkhIjamILw",
        "outputId": "bbed1b9d-a2e8-49cb-b329-e5570822824c"
      },
      "outputs": [
        {
          "output_type": "stream",
          "name": "stdout",
          "text": [
            "Drive already mounted at /content/drive; to attempt to forcibly remount, call drive.mount(\"/content/drive\", force_remount=True).\n"
          ]
        }
      ],
      "source": [
        "from google.colab import drive\n",
        "drive.mount('/content/drive')"
      ]
    },
    {
      "cell_type": "code",
      "execution_count": 4,
      "metadata": {
        "colab": {
          "base_uri": "https://localhost:8080/"
        },
        "id": "WuMNWhQYnzLl",
        "outputId": "4ca0276a-ebb2-4566-eab3-ab40b58be18b"
      },
      "outputs": [
        {
          "output_type": "stream",
          "name": "stdout",
          "text": [
            "Collecting filterpy\n",
            "  Downloading filterpy-1.4.5.zip (177 kB)\n",
            "\u001b[2K     \u001b[90m━━━━━━━━━━━━━━━━━━━━━━━━━━━━━━━━━━━━━━━\u001b[0m \u001b[32m178.0/178.0 kB\u001b[0m \u001b[31m3.1 MB/s\u001b[0m eta \u001b[36m0:00:00\u001b[0m\n",
            "\u001b[?25h  Preparing metadata (setup.py) ... \u001b[?25l\u001b[?25hdone\n",
            "Requirement already satisfied: numpy in /usr/local/lib/python3.10/dist-packages (from filterpy) (1.23.5)\n",
            "Requirement already satisfied: scipy in /usr/local/lib/python3.10/dist-packages (from filterpy) (1.11.3)\n",
            "Requirement already satisfied: matplotlib in /usr/local/lib/python3.10/dist-packages (from filterpy) (3.7.1)\n",
            "Requirement already satisfied: contourpy>=1.0.1 in /usr/local/lib/python3.10/dist-packages (from matplotlib->filterpy) (1.1.1)\n",
            "Requirement already satisfied: cycler>=0.10 in /usr/local/lib/python3.10/dist-packages (from matplotlib->filterpy) (0.12.0)\n",
            "Requirement already satisfied: fonttools>=4.22.0 in /usr/local/lib/python3.10/dist-packages (from matplotlib->filterpy) (4.43.1)\n",
            "Requirement already satisfied: kiwisolver>=1.0.1 in /usr/local/lib/python3.10/dist-packages (from matplotlib->filterpy) (1.4.5)\n",
            "Requirement already satisfied: packaging>=20.0 in /usr/local/lib/python3.10/dist-packages (from matplotlib->filterpy) (23.2)\n",
            "Requirement already satisfied: pillow>=6.2.0 in /usr/local/lib/python3.10/dist-packages (from matplotlib->filterpy) (9.4.0)\n",
            "Requirement already satisfied: pyparsing>=2.3.1 in /usr/local/lib/python3.10/dist-packages (from matplotlib->filterpy) (3.1.1)\n",
            "Requirement already satisfied: python-dateutil>=2.7 in /usr/local/lib/python3.10/dist-packages (from matplotlib->filterpy) (2.8.2)\n",
            "Requirement already satisfied: six>=1.5 in /usr/local/lib/python3.10/dist-packages (from python-dateutil>=2.7->matplotlib->filterpy) (1.16.0)\n",
            "Building wheels for collected packages: filterpy\n",
            "  Building wheel for filterpy (setup.py) ... \u001b[?25l\u001b[?25hdone\n",
            "  Created wheel for filterpy: filename=filterpy-1.4.5-py3-none-any.whl size=110459 sha256=822ec061a67f005a5d84bc9cf85c683bb56470273144cef5ea6038c6eae7912e\n",
            "  Stored in directory: /root/.cache/pip/wheels/0f/0c/ea/218f266af4ad626897562199fbbcba521b8497303200186102\n",
            "Successfully built filterpy\n",
            "Installing collected packages: filterpy\n",
            "Successfully installed filterpy-1.4.5\n"
          ]
        }
      ],
      "source": [
        "!pip install filterpy"
      ]
    },
    {
      "cell_type": "code",
      "execution_count": 9,
      "metadata": {
        "colab": {
          "base_uri": "https://localhost:8080/"
        },
        "id": "enLsP7ywIAJM",
        "outputId": "9ee306e3-fad9-49a2-87b2-dff828263877"
      },
      "outputs": [
        {
          "output_type": "stream",
          "name": "stdout",
          "text": [
            "Drive already mounted at /content/drive; to attempt to forcibly remount, call drive.mount(\"/content/drive\", force_remount=True).\n",
            "Denoising complete. Denoised images are saved in the output folder.\n"
          ]
        }
      ],
      "source": [
        "import os\n",
        "import cv2\n",
        "import numpy as np\n",
        "from filterpy.kalman import KalmanFilter\n",
        "\n",
        "# Mount Google Drive to access the images\n",
        "from google.colab import drive\n",
        "drive.mount('/content/drive')\n",
        "\n",
        "# Path to the folder containing images\n",
        "folder_path = \"/content/drive/MyDrive/kalman filter/real images\"\n",
        "\n",
        "# Get a list of image files in the folder\n",
        "image_files = [f for f in os.listdir(folder_path) if f.endswith(('.jpg', '.png'))]\n",
        "\n",
        "# Function to apply Kalman filter to an image\n",
        "def denoise_image_with_kalman(image):\n",
        "    # Convert the image to grayscale\n",
        "    image_gray = cv2.cvtColor(image, cv2.COLOR_BGR2GRAY)\n",
        "\n",
        "       # Initialize Kalman filter\n",
        "    kf = KalmanFilter(dim_x=1, dim_z=1)\n",
        "    kf.x = np.array([image_gray[0, 0]], dtype=np.float64)  # Initial estimate (noisy pixel value)\n",
        "    kf.F = np.array([[1]], dtype=np.float64)  # State transition matrix\n",
        "    kf.H = np.array([[1]], dtype=np.float64)  # Measurement matrix\n",
        "    kf.P *= 0.1  # Covariance matrix\n",
        "\n",
        "\n",
        "      # Initialize filtered image (denoised image)\n",
        "    filtered_image = np.zeros_like(image_gray, dtype=np.uint8)\n",
        "\n",
        "\n",
        "\n",
        "        # Apply Kalman filter to denoise the image\n",
        "    for i in range(image_gray.shape[0]):\n",
        "        for j in range(image_gray.shape[1]):\n",
        "            measurement = np.array([[image_gray[i, j]]], dtype=np.float64)  # Measurement (noisy pixel value)\n",
        "            kf.predict()\n",
        "            kf.update(measurement)\n",
        "            filtered_image[i, j] = kf.x[0]\n",
        "\n",
        "\n",
        "    return filtered_image\n",
        "\n",
        "# Create a directory to save the denoised images\n",
        "output_folder = \"/content/drive/MyDrive/kalman filter/kalman real images\"\n",
        "os.makedirs(output_folder, exist_ok=True)\n",
        "\n",
        "# Load each image, denoise using Kalman filter, and save the results\n",
        "for image_file in image_files:\n",
        "    image_path = os.path.join(folder_path, image_file)\n",
        "    image = cv2.imread(image_path)\n",
        "\n",
        "    #image resizing\n",
        "    img_resized = cv2.resize(image,(256,256), interpolation=cv2.INTER_AREA)\n",
        "\n",
        "\n",
        "    #applying kalman filter\n",
        "    filtered_image = denoise_image_with_kalman(img_resized)\n",
        "\n",
        "\n",
        "\n",
        "    # Save the denoised image to the output folder\n",
        "    output_path = os.path.join(output_folder, image_file)\n",
        "    cv2.imwrite(output_path, filtered_image)\n",
        "\n",
        "print(\"Denoising complete. Denoised images are saved in the output folder.\")\n"
      ]
    },
    {
      "cell_type": "code",
      "source": [
        "import os\n",
        "import cv2\n",
        "import numpy as np\n",
        "from filterpy.kalman import KalmanFilter\n",
        "\n",
        "# Mount Google Drive to access the images\n",
        "from google.colab import drive\n",
        "drive.mount('/content/drive')\n",
        "\n",
        "# Path to the folder containing images\n",
        "folder_path = \"/content/drive/MyDrive/kalman filter/fake images\"\n",
        "\n",
        "# Get a list of image files in the folder\n",
        "image_files = [f for f in os.listdir(folder_path) if f.endswith(('.jpg', '.png'))]\n",
        "\n",
        "# Function to apply Kalman filter to an image\n",
        "def denoise_image_with_kalman(image):\n",
        "    # Convert the image to grayscale\n",
        "    image_gray = cv2.cvtColor(image, cv2.COLOR_BGR2GRAY)\n",
        "\n",
        "       # Initialize Kalman filter\n",
        "    kf = KalmanFilter(dim_x=1, dim_z=1)\n",
        "    kf.x = np.array([image_gray[0, 0]], dtype=np.float64)  # Initial estimate (noisy pixel value)\n",
        "    kf.F = np.array([[1]], dtype=np.float64)  # State transition matrix\n",
        "    kf.H = np.array([[1]], dtype=np.float64)  # Measurement matrix\n",
        "    kf.P *= 0.1  # Covariance matrix\n",
        "\n",
        "\n",
        "      # Initialize filtered image (denoised image)\n",
        "    filtered_image = np.zeros_like(image_gray, dtype=np.uint8)\n",
        "\n",
        "\n",
        "\n",
        "        # Apply Kalman filter to denoise the image\n",
        "    for i in range(image_gray.shape[0]):\n",
        "        for j in range(image_gray.shape[1]):\n",
        "            measurement = np.array([[image_gray[i, j]]], dtype=np.float64)  # Measurement (noisy pixel value)\n",
        "            kf.predict()\n",
        "            kf.update(measurement)\n",
        "            filtered_image[i, j] = kf.x[0]\n",
        "\n",
        "\n",
        "    return filtered_image\n",
        "\n",
        "# Create a directory to save the denoised images\n",
        "output_folder = \"/content/drive/MyDrive/kalman filter/kalman fake images\"\n",
        "os.makedirs(output_folder, exist_ok=True)\n",
        "\n",
        "# Load each image, denoise using Kalman filter, and save the results\n",
        "for image_file in image_files:\n",
        "    image_path = os.path.join(folder_path, image_file)\n",
        "    image = cv2.imread(image_path)\n",
        "\n",
        "    #image resizing\n",
        "    img_resized = cv2.resize(image,(256,256), interpolation=cv2.INTER_AREA)\n",
        "\n",
        "\n",
        "    #applying kalman filter\n",
        "    filtered_image = denoise_image_with_kalman(img_resized)\n",
        "\n",
        "\n",
        "\n",
        "    # Save the denoised image to the output folder\n",
        "    output_path = os.path.join(output_folder, image_file)\n",
        "    cv2.imwrite(output_path, filtered_image)\n",
        "\n",
        "print(\"Denoising complete. Denoised images are saved in the output folder.\")"
      ],
      "metadata": {
        "colab": {
          "base_uri": "https://localhost:8080/"
        },
        "id": "8lRbACyWBzfA",
        "outputId": "7324debb-6e9c-4508-dda1-695a1458c15c"
      },
      "execution_count": 11,
      "outputs": [
        {
          "output_type": "stream",
          "name": "stdout",
          "text": [
            "Drive already mounted at /content/drive; to attempt to forcibly remount, call drive.mount(\"/content/drive\", force_remount=True).\n",
            "Denoising complete. Denoised images are saved in the output folder.\n"
          ]
        }
      ]
    },
    {
      "cell_type": "code",
      "execution_count": null,
      "metadata": {
        "id": "XuADaPd2h49u"
      },
      "outputs": [],
      "source": []
    }
  ],
  "metadata": {
    "colab": {
      "provenance": [],
      "toc_visible": true,
      "include_colab_link": true
    },
    "kernelspec": {
      "display_name": "Python 3",
      "name": "python3"
    }
  },
  "nbformat": 4,
  "nbformat_minor": 0
}