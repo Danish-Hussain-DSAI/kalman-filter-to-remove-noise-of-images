{
  "cells": [
    {
      "cell_type": "markdown",
      "metadata": {
        "id": "view-in-github",
        "colab_type": "text"
      },
      "source": [
        "<a href=\"https://colab.research.google.com/github/Danish-Hussain-DSAI/kalman-filter-to-remove-noise-of-images/blob/main/Welcome_To_Colaboratory.ipynb\" target=\"_parent\"><img src=\"https://colab.research.google.com/assets/colab-badge.svg\" alt=\"Open In Colab\"/></a>"
      ]
    },
    {
      "cell_type": "code",
      "source": [
        "import os\n",
        "import cv2\n",
        "import numpy as np\n",
        "from filterpy.kalman import KalmanFilter\n",
        "\n",
        "# Mount Google Drive to access the images\n",
        "from google.colab import drive\n",
        "drive.mount('/content/drive')\n",
        "\n",
        "# Path to the folder containing images\n",
        "folder_path = \"/content/drive/MyDrive/kalman filter dataset\"\n",
        "\n",
        "# Get a list of image files in the folder\n",
        "image_files = [f for f in os.listdir(folder_path) if f.endswith(('.jpg', '.png'))]\n",
        "\n",
        "# Function to apply Kalman filter to an image\n",
        "def denoise_image_with_kalman(image):\n",
        "    # Convert the image to grayscale\n",
        "    image_gray = cv2.cvtColor(image, cv2.COLOR_BGR2GRAY)\n",
        "\n",
        "       # Initialize Kalman filter\n",
        "    kf = KalmanFilter(dim_x=1, dim_z=1)\n",
        "    kf.x = np.array([image_gray[0, 0]], dtype=np.float64)  # Initial estimate (noisy pixel value)\n",
        "    kf.F = np.array([[1]], dtype=np.float64)  # State transition matrix\n",
        "    kf.H = np.array([[1]], dtype=np.float64)  # Measurement matrix\n",
        "    kf.P *= 0.1  # Covariance matrix\n",
        "\n",
        "\n",
        "      # Initialize filtered image (denoised image)\n",
        "    filtered_image = np.zeros_like(image_gray, dtype=np.uint8)\n",
        "\n",
        "\n",
        "\n",
        "        # Apply Kalman filter to denoise the image\n",
        "    for i in range(image_gray.shape[0]):\n",
        "        for j in range(image_gray.shape[1]):\n",
        "            measurement = np.array([[image_gray[i, j]]], dtype=np.float64)  # Measurement (noisy pixel value)\n",
        "            kf.predict()\n",
        "            kf.update(measurement)\n",
        "            filtered_image[i, j] = kf.x[0]\n",
        "\n",
        "\n",
        "    return filtered_image\n",
        "\n",
        "# Create a directory to save the denoised images\n",
        "output_folder = \"/content/drive/MyDrive/denoised_kalman_images\"\n",
        "os.makedirs(output_folder, exist_ok=True)\n",
        "\n",
        "# Load each image, denoise using Kalman filter, and save the results\n",
        "for image_file in image_files:\n",
        "    image_path = os.path.join(folder_path, image_file)\n",
        "    image = cv2.imread(image_path)\n",
        "\n",
        "    filtered_image = denoise_image_with_kalman(image)\n",
        "\n",
        "    # Save the denoised image to the output folder\n",
        "    output_path = os.path.join(output_folder, image_file)\n",
        "    cv2.imwrite(output_path, filtered_image)\n",
        "\n",
        "print(\"Denoising complete. Denoised images are saved in the output folder.\")\n"
      ],
      "metadata": {
        "colab": {
          "base_uri": "https://localhost:8080/"
        },
        "id": "enLsP7ywIAJM",
        "outputId": "eee0e3b2-77b5-4d1e-9311-9b3be4943134"
      },
      "execution_count": 19,
      "outputs": [
        {
          "output_type": "stream",
          "name": "stdout",
          "text": [
            "Drive already mounted at /content/drive; to attempt to forcibly remount, call drive.mount(\"/content/drive\", force_remount=True).\n",
            "Denoising complete. Denoised images are saved in the output folder.\n"
          ]
        }
      ]
    }
  ],
  "metadata": {
    "colab": {
      "name": "Welcome To Colaboratory",
      "toc_visible": true,
      "provenance": [],
      "include_colab_link": true
    },
    "kernelspec": {
      "display_name": "Python 3",
      "name": "python3"
    }
  },
  "nbformat": 4,
  "nbformat_minor": 0
}